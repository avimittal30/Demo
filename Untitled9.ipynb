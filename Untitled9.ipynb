{
 "cells": [
  {
   "cell_type": "code",
   "execution_count": 2,
   "metadata": {},
   "outputs": [
    {
     "data": {
      "text/plain": [
       "'pYTHONIST 2'"
      ]
     },
     "execution_count": 2,
     "metadata": {},
     "output_type": "execute_result"
    }
   ],
   "source": [
    "# Program to Swap case\n",
    "\n",
    "str=\"Pythonist 2\"\n",
    "\"\".join(i.upper() if i.islower() else i.lower() for i in str)"
   ]
  },
  {
   "cell_type": "code",
   "execution_count": 4,
   "metadata": {},
   "outputs": [
    {
     "data": {
      "text/plain": [
       "4"
      ]
     },
     "execution_count": 4,
     "metadata": {},
     "output_type": "execute_result"
    }
   ],
   "source": [
    "# Count the occurance of a substring in a string\n",
    "s1=\"ARA\"\n",
    "s2= \"EARARALARAPAELARA\"\n",
    "\n",
    "def substring_s(s1, s2):\n",
    "    \n",
    "    count=0\n",
    "    i=0\n",
    "    while(i<=(len(s2)-len(s1))):\n",
    "        if (s1==s2[i:i+len(s1)]):\n",
    "            count+=1\n",
    "        i=i+1\n",
    "    return(count)    \n",
    "\n",
    "substring_s(s1,s2)"
   ]
  },
  {
   "cell_type": "code",
   "execution_count": 5,
   "metadata": {},
   "outputs": [
    {
     "name": "stdout",
     "output_type": "stream",
     "text": [
      "Number of Alphabets: 6\n",
      "Number of Numeric characters: 3\n",
      "Number of alphanumeric characters: 9\n",
      "Number of Uppercase characters: 3\n",
      "Number of Lowercase characters: 3\n"
     ]
    }
   ],
   "source": [
    "s=\"Aa123gGhK\" \n",
    "def count_str(s):\n",
    "    i=0\n",
    "    an_cnt=0\n",
    "    al_cnt=0\n",
    "    dt_cnt=0\n",
    "    lc_cnt=0\n",
    "    uc_cnt=0\n",
    "    for i in range(0, len(s)):\n",
    "        if(s[i].isalpha()):\n",
    "            al_cnt+=1\n",
    "        if(s[i].isdigit()):\n",
    "            dt_cnt+=1\n",
    "        if(s[i].isupper()):\n",
    "            uc_cnt+=1\n",
    "        if(s[i].islower()):\n",
    "            lc_cnt+=1\n",
    "        \n",
    "    return([al_cnt, dt_cnt,al_cnt+dt_cnt, uc_cnt,lc_cnt])\n",
    "\n",
    "print(\"Number of Alphabets:\", count_str(s)[0])\n",
    "print(\"Number of Numeric characters:\", count_str(s)[1])\n",
    "print(\"Number of alphanumeric characters:\", count_str(s)[2])\n",
    "print(\"Number of Uppercase characters:\", count_str(s)[3])\n",
    "print(\"Number of Lowercase characters:\", count_str(s)[4])\n"
   ]
  },
  {
   "cell_type": "code",
   "execution_count": 10,
   "metadata": {},
   "outputs": [
    {
     "name": "stdout",
     "output_type": "stream",
     "text": [
      "Max value is 7 and index is 7\n"
     ]
    }
   ],
   "source": [
    "l=[1,2,3,4,5,6,6,7,7,8,8]\n",
    "set_l=list(set(l))\n",
    "print(\"Max value is\", set_l[-2],\"and index is\", l.index(7))"
   ]
  },
  {
   "cell_type": "code",
   "execution_count": 12,
   "metadata": {},
   "outputs": [
    {
     "data": {
      "text/plain": [
       "[5,\n",
       " 6,\n",
       " 7,\n",
       " 10,\n",
       " 12,\n",
       " 14,\n",
       " 15,\n",
       " 18,\n",
       " 20,\n",
       " 21,\n",
       " 24,\n",
       " 25,\n",
       " 28,\n",
       " 30,\n",
       " 35,\n",
       " 36,\n",
       " 40,\n",
       " 42,\n",
       " 45,\n",
       " 48,\n",
       " 49,\n",
       " 50,\n",
       " 54,\n",
       " 55,\n",
       " 56,\n",
       " 60,\n",
       " 63,\n",
       " 65,\n",
       " 66,\n",
       " 70,\n",
       " 72,\n",
       " 75,\n",
       " 77,\n",
       " 78,\n",
       " 80,\n",
       " 84,\n",
       " 85,\n",
       " 90,\n",
       " 91,\n",
       " 95,\n",
       " 96,\n",
       " 98]"
      ]
     },
     "execution_count": 12,
     "metadata": {},
     "output_type": "execute_result"
    }
   ],
   "source": [
    "[i for i in range(1,100) if any([i%5==0, i%6==0, i%7==0])]"
   ]
  },
  {
   "cell_type": "code",
   "execution_count": null,
   "metadata": {},
   "outputs": [],
   "source": []
  }
 ],
 "metadata": {
  "kernelspec": {
   "display_name": "Python 3",
   "language": "python",
   "name": "python3"
  },
  "language_info": {
   "codemirror_mode": {
    "name": "ipython",
    "version": 3
   },
   "file_extension": ".py",
   "mimetype": "text/x-python",
   "name": "python",
   "nbconvert_exporter": "python",
   "pygments_lexer": "ipython3",
   "version": "3.7.6"
  }
 },
 "nbformat": 4,
 "nbformat_minor": 4
}
